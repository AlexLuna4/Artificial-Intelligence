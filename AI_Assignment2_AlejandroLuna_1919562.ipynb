{
  "nbformat": 4,
  "nbformat_minor": 0,
  "metadata": {
    "colab": {
      "provenance": [],
      "collapsed_sections": []
    },
    "kernelspec": {
      "name": "python3",
      "display_name": "Python 3"
    },
    "language_info": {
      "name": "python"
    }
  },
  "cells": [
    {
      "cell_type": "code",
      "execution_count": 17,
      "metadata": {
        "colab": {
          "base_uri": "https://localhost:8080/"
        },
        "id": "0slitRQ_ATlb",
        "outputId": "1356c240-b53d-4eb1-d21e-dd4a60e4efcd"
      },
      "outputs": [
        {
          "name": "stdout",
          "output_type": "stream",
          "text": [
            "Hi, what's your name? Ana\n"
          ]
        }
      ],
      "source": [
        "#Excercise number 1\n",
        "\n",
        "name = input(\"Hi, what's your name? \" )\n",
        "if(name != \"Ana\" and name != \"John\" and name != \"Peter\"):\n",
        "  print(\"Nice to meet you\", name)"
      ]
    },
    {
      "cell_type": "code",
      "source": [
        "# Excercise number 2\n",
        "\n",
        "inputlist = [10,23,11,44,190]\n",
        "def reverselist(inputlist):\n",
        "  inputlist.reverse()\n",
        "  print(\"The last element is: \", inputlist[0])\n",
        "  print(\"The reverse list is: \", end=\" \")\n",
        "  for i in inputlist:\n",
        "    print(i,end=\", \")\n",
        "\n",
        "reverselist(inputlist)"
      ],
      "metadata": {
        "colab": {
          "base_uri": "https://localhost:8080/"
        },
        "id": "AtZv3b37EnQj",
        "outputId": "06773ce4-9cb9-46f1-8cea-363a92c6b4f1"
      },
      "execution_count": null,
      "outputs": [
        {
          "output_type": "stream",
          "name": "stdout",
          "text": [
            "The last element is:  190\n",
            "The reverse list is:  190, 44, 11, 23, 10, "
          ]
        }
      ]
    },
    {
      "cell_type": "code",
      "source": [
        "# Excercise number 3\n",
        "\n",
        "def printframe(*mylist):\n",
        "  size = max(len(i) for i in mylist)\n",
        "  print(\"*\" * (size + 4))\n",
        "  for i in mylist:\n",
        "    print(\"* {:<{}} *\".format(i, size))\n",
        "  print(\"*\" * (size + 4))\n",
        "\n",
        "printframe(\"Hello\", \"My\", \"name\", \"is\", \"Alejandro\", \"Luna\")\n"
      ],
      "metadata": {
        "colab": {
          "base_uri": "https://localhost:8080/"
        },
        "id": "L6D1MFESRAT2",
        "outputId": "5d0bd9a4-0a98-4882-a15e-e6b920ae7c4c"
      },
      "execution_count": 15,
      "outputs": [
        {
          "output_type": "stream",
          "name": "stdout",
          "text": [
            "*************\n",
            "* Hello     *\n",
            "* My        *\n",
            "* name      *\n",
            "* is        *\n",
            "* Alejandro *\n",
            "* Luna      *\n",
            "*************\n"
          ]
        }
      ]
    }
  ]
}